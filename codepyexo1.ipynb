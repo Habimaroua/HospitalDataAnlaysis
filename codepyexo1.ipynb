{
 "cells": [
  {
   "cell_type": "code",
   "execution_count": 1,
   "id": "f45163ff-75f6-4b01-97d1-105f5d99c597",
   "metadata": {},
   "outputs": [
    {
     "name": "stdout",
     "output_type": "stream",
     "text": [
      "✅ Fichier 'patients.csv' créé avec succès !\n"
     ]
    }
   ],
   "source": [
    "import pandas as pd\n",
    "\n",
    "# 1️⃣ Définir les 15 colonnes\n",
    "colonnes = [\n",
    "    \"PatientID\", \"Nom\", \"Prenom\", \"Age\", \"Sexe\", \"Adresse\", \"Ville\",\n",
    "    \"Telephone\", \"Email\", \"DateAdmission\", \"Service\", \"Medecin\",\n",
    "    \"PressionArterielle\", \"Cholesterol\", \"Diagnostic\"\n",
    "]\n",
    "\n",
    "# 2️⃣ Créer quelques lignes d'exemple (tu peux en ajouter plus)\n",
    "donnees = [\n",
    "    [1, \"Benali\", \"Sara\", 34, \"F\", \"Rue 12\", \"Alger\", \"0551...\", \"sara@example.com\", \"2025-01-02\", \"Cardio\", \"Dr. Ahmed\", 120, 190, \"Stable\"],\n",
    "    [2, \"Brahimi\", \"Youssef\", 48, \"M\", \"Rue 8\", \"Oran\", \"0662...\", \"youssef@example.com\", \"2025-01-05\", \"Urgence\", \"Dr. Leila\", 135, 210, \"Critique\"],\n",
    "    [3, \"Hamidi\", \"Lina\", 29, \"F\", \"Rue 4\", \"Constantine\", \"0770...\", \"lina@example.com\", \"2025-01-07\", \"Neurologie\", \"Dr. Sofiane\", 110, 180, \"Bon état\"]\n",
    "]\n",
    "\n",
    "# 3️⃣ Créer un DataFrame\n",
    "df = pd.DataFrame(donnees, columns=colonnes)\n",
    "\n",
    "# 4️⃣ Sauvegarder le fichier CSV\n",
    "df.to_csv(\"patients.csv\", index=False, encoding=\"utf-8\")\n",
    "\n",
    "print(\"✅ Fichier 'patients.csv' créé avec succès !\")\n"
   ]
  },
  {
   "cell_type": "code",
   "execution_count": null,
   "id": "a295a777-8b14-46c6-8c61-f865fc3e4707",
   "metadata": {},
   "outputs": [],
   "source": []
  }
 ],
 "metadata": {
  "kernelspec": {
   "display_name": "HospitalData Env",
   "language": "python",
   "name": "hospitalenv"
  },
  "language_info": {
   "codemirror_mode": {
    "name": "ipython",
    "version": 3
   },
   "file_extension": ".py",
   "mimetype": "text/x-python",
   "name": "python",
   "nbconvert_exporter": "python",
   "pygments_lexer": "ipython3",
   "version": "3.11.13"
  }
 },
 "nbformat": 4,
 "nbformat_minor": 5
}
