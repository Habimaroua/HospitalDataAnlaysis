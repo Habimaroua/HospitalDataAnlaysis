{
 "cells": [
  {
   "cell_type": "code",
   "execution_count": null,
   "id": "f45163ff-75f6-4b01-97d1-105f5d99c597",
   "metadata": {},
   "outputs": [],
   "source": [
    "import oan"
   ]
  }
 ],
 "metadata": {
  "kernelspec": {
   "display_name": "HospitalData Env",
   "language": "python",
   "name": "hospitalenv"
  },
  "language_info": {
   "codemirror_mode": {
    "name": "ipython",
    "version": 3
   },
   "file_extension": ".py",
   "mimetype": "text/x-python",
   "name": "python",
   "nbconvert_exporter": "python",
   "pygments_lexer": "ipython3",
   "version": "3.11.13"
  }
 },
 "nbformat": 4,
 "nbformat_minor": 5
}
